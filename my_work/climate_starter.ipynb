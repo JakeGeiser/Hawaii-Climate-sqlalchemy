{
 "cells": [
  {
   "cell_type": "code",
   "execution_count": 1,
   "metadata": {},
   "outputs": [],
   "source": [
    "%matplotlib inline\n",
    "from matplotlib import style\n",
    "style.use('fivethirtyeight')\n",
    "import matplotlib.pyplot as plt"
   ]
  },
  {
   "cell_type": "code",
   "execution_count": 2,
   "metadata": {},
   "outputs": [],
   "source": [
    "import numpy as np\n",
    "import pandas as pd\n",
    "from scipy import stats"
   ]
  },
  {
   "cell_type": "code",
   "execution_count": 3,
   "metadata": {},
   "outputs": [],
   "source": [
    "import datetime as dt"
   ]
  },
  {
   "cell_type": "markdown",
   "metadata": {},
   "source": [
    "# Reflect Tables into SQLAlchemy ORM"
   ]
  },
  {
   "cell_type": "code",
   "execution_count": 4,
   "metadata": {},
   "outputs": [],
   "source": [
    "# Python SQL toolkit and Object Relational Mapper\n",
    "import sqlalchemy\n",
    "from sqlalchemy.ext.automap import automap_base\n",
    "from sqlalchemy.orm import Session\n",
    "from sqlalchemy import create_engine, inspect, func"
   ]
  },
  {
   "cell_type": "code",
   "execution_count": 5,
   "metadata": {},
   "outputs": [],
   "source": [
    "engine = create_engine(\"sqlite:///Resources/hawaii.sqlite\")"
   ]
  },
  {
   "cell_type": "code",
   "execution_count": 6,
   "metadata": {},
   "outputs": [],
   "source": [
    "# reflect an existing database into a new model\n",
    "# automap documentation - https://docs.sqlalchemy.org/en/13/orm/extensions/automap.html\n",
    "Base = automap_base()\n",
    "# reflect the tables\n",
    "Base.prepare(engine, reflect=True)"
   ]
  },
  {
   "cell_type": "code",
   "execution_count": 7,
   "metadata": {},
   "outputs": [
    {
     "data": {
      "text/plain": [
       "['measurement', 'station']"
      ]
     },
     "execution_count": 7,
     "metadata": {},
     "output_type": "execute_result"
    }
   ],
   "source": [
    "# We can view all of the classes that automap found\n",
    "tables = Base.classes.keys()\n",
    "tables"
   ]
  },
  {
   "cell_type": "code",
   "execution_count": 8,
   "metadata": {},
   "outputs": [
    {
     "name": "stdout",
     "output_type": "stream",
     "text": [
      "id INTEGER   station TEXT   date TEXT   prcp FLOAT   tobs FLOAT   \n",
      "---------------------------------------\n",
      "id INTEGER   station TEXT   name TEXT   latitude FLOAT   longitude FLOAT   elevation FLOAT   \n",
      "---------------------------------------\n"
     ]
    }
   ],
   "source": [
    "# Get column names and data types for each table\n",
    "inspector = inspect(engine)\n",
    "for table in tables:\n",
    "    columns = inspector.get_columns(table)\n",
    "    for c in columns:\n",
    "        print(c['name'],c['type'], end='   ')\n",
    "    print()\n",
    "    print('---------------------------------------')"
   ]
  },
  {
   "cell_type": "code",
   "execution_count": 9,
   "metadata": {},
   "outputs": [],
   "source": [
    "# Save references to each table\n",
    "Measurement = Base.classes.measurement\n",
    "Station = Base.classes.station"
   ]
  },
  {
   "cell_type": "code",
   "execution_count": 10,
   "metadata": {},
   "outputs": [],
   "source": [
    "# Create our session (link) from Python to the DB\n",
    "session = Session(engine)"
   ]
  },
  {
   "cell_type": "code",
   "execution_count": 11,
   "metadata": {},
   "outputs": [
    {
     "name": "stdout",
     "output_type": "stream",
     "text": [
      "['id', 'station', 'date', 'prcp', 'tobs']\n",
      "['id', 'station', 'name', 'latitude', 'longitude', 'elevation']\n"
     ]
    }
   ],
   "source": [
    "# Method to get table columns without inspect\n",
    "print(Measurement.__table__.columns.keys())\n",
    "print(Station.__table__.columns.keys())"
   ]
  },
  {
   "cell_type": "markdown",
   "metadata": {},
   "source": [
    "# Exploratory Climate Analysis"
   ]
  },
  {
   "cell_type": "code",
   "execution_count": 12,
   "metadata": {},
   "outputs": [],
   "source": [
    "# Design a query to retrieve the last 12 months of precipitation data and plot the results\n",
    "\n",
    "# Calculate the date 1 year ago from the last data point in the database\n",
    "## Get most recent day and convert to datetime object\n",
    "most_recent_day = session.query(Measurement.date).order_by(Measurement.date.desc()).first()\n",
    "dt_obj = dt.datetime.strptime(most_recent_day[0], '%Y-%m-%d')\n",
    "## Subract a year to find datetime object of date from a year earlier of most_recent_day\n",
    "year_ago = dt.date(dt_obj.year-1,dt_obj.month,dt_obj.day)\n",
    "\n",
    "# Perform a query to retrieve the date and precipitation scores\n",
    "last_year_prcp = session.query(Measurement.date,Measurement.prcp).\\\n",
    "                        filter(Measurement.date >= year_ago).all()\n",
    "# Save the query results as a Pandas DataFrame \n",
    "prcp_df = pd.DataFrame(last_year_prcp).dropna()\n",
    "# Change date data type from string to datetime64[ns] (SO reference below for why)\n",
    "prcp_df['date'] = pd.to_datetime(prcp_df['date'])\n",
    "# Set the index to the date column and sort by index\n",
    "prcp_df = prcp_df.set_index('date').sort_index()\n",
    "\n",
    "# for reference - https://stackoverflow.com/questions/55584972/showing-only-every-n-dates-on-x-axis-or-grouping-by-month-to-reduce-x-axis-c"
   ]
  },
  {
   "cell_type": "code",
   "execution_count": 17,
   "metadata": {},
   "outputs": [
    {
     "data": {
      "image/png": "[encoded data removed]",
      "text/plain": [
       "<Figure size 864x360 with 1 Axes>"
      ]
     },
     "metadata": {},
     "output_type": "display_data"
    }
   ],
   "source": [
    "# Use Pandas Plotting with Matplotlib to plot the data\n",
    "plt.figure(figsize=(12,5))\n",
    "plt.bar(prcp_df.index,prcp_df['prcp'])\n",
    "plt.xticks(rotation=90)\n",
    "plt.ylabel('Inches')\n",
    "plt.xlabel('Date')\n",
    "plt.title('Precipitation')\n",
    "plt.tight_layout()\n",
    "plt.savefig(\"images/precipitation.png\")"
   ]
  },
  {
   "cell_type": "code",
   "execution_count": 18,
   "metadata": {},
   "outputs": [
    {
     "data": {
      "text/html": [
       "<div>\n",
       "<style scoped>\n",
       "    .dataframe tbody tr th:only-of-type {\n",
       "        vertical-align: middle;\n",
       "    }\n",
       "\n",
       "    .dataframe tbody tr th {\n",
       "        vertical-align: top;\n",
       "    }\n",
       "\n",
       "    .dataframe thead th {\n",
       "        text-align: right;\n",
       "    }\n",
       "</style>\n",
       "<table border=\"1\" class=\"dataframe\">\n",
       "  <thead>\n",
       "    <tr style=\"text-align: right;\">\n",
       "      <th></th>\n",
       "      <th>prcp</th>\n",
       "    </tr>\n",
       "  </thead>\n",
       "  <tbody>\n",
       "    <tr>\n",
       "      <th>count</th>\n",
       "      <td>2021.000000</td>\n",
       "    </tr>\n",
       "    <tr>\n",
       "      <th>mean</th>\n",
       "      <td>0.177279</td>\n",
       "    </tr>\n",
       "    <tr>\n",
       "      <th>std</th>\n",
       "      <td>0.461190</td>\n",
       "    </tr>\n",
       "    <tr>\n",
       "      <th>min</th>\n",
       "      <td>0.000000</td>\n",
       "    </tr>\n",
       "    <tr>\n",
       "      <th>25%</th>\n",
       "      <td>0.000000</td>\n",
       "    </tr>\n",
       "    <tr>\n",
       "      <th>50%</th>\n",
       "      <td>0.020000</td>\n",
       "    </tr>\n",
       "    <tr>\n",
       "      <th>75%</th>\n",
       "      <td>0.130000</td>\n",
       "    </tr>\n",
       "    <tr>\n",
       "      <th>max</th>\n",
       "      <td>6.700000</td>\n",
       "    </tr>\n",
       "  </tbody>\n",
       "</table>\n",
       "</div>"
      ],
      "text/plain": [
       "              prcp\n",
       "count  2021.000000\n",
       "mean      0.177279\n",
       "std       0.461190\n",
       "min       0.000000\n",
       "25%       0.000000\n",
       "50%       0.020000\n",
       "75%       0.130000\n",
       "max       6.700000"
      ]
     },
     "execution_count": 18,
     "metadata": {},
     "output_type": "execute_result"
    }
   ],
   "source": [
    "# Save prcp_df as a csv file for use in app.py\n",
    "prcp_df.reset_index().to_csv('precipitation.csv',index=False)\n",
    "# Use Pandas to calcualte the summary statistics for the precipitation data\n",
    "prcp_df.describe()"
   ]
  },
  {
   "cell_type": "code",
   "execution_count": 19,
   "metadata": {},
   "outputs": [
    {
     "name": "stdout",
     "output_type": "stream",
     "text": [
      "There are a total of 19550 stations\n",
      "There are 9 unique stations\n"
     ]
    }
   ],
   "source": [
    "# Design a query to show how many stations are available in this dataset?\n",
    "ustations = session.query(Measurement.station)\n",
    "print(f\"There are a total of {ustations.count()} stations\")\n",
    "print(f\"There are {ustations.distinct().count()} unique stations\")"
   ]
  },
  {
   "cell_type": "code",
   "execution_count": 20,
   "metadata": {},
   "outputs": [
    {
     "data": {
      "text/plain": [
       "[('USC00519281', 2772),\n",
       " ('USC00519397', 2724),\n",
       " ('USC00513117', 2709),\n",
       " ('USC00519523', 2669),\n",
       " ('USC00516128', 2612),\n",
       " ('USC00514830', 2202),\n",
       " ('USC00511918', 1979),\n",
       " ('USC00517948', 1372),\n",
       " ('USC00518838', 511)]"
      ]
     },
     "execution_count": 20,
     "metadata": {},
     "output_type": "execute_result"
    }
   ],
   "source": [
    "# What are the most active stations? (i.e. what stations have the most rows)?\n",
    "# List the stations and the counts in descending order.\n",
    "station_freq = session.query(Measurement.station,func.count(Measurement.station)).\\\n",
    "                group_by(Measurement.station).order_by(func.count(Measurement.station).desc()).all()\n",
    "station_freq\n",
    "\n",
    "## References\n",
    "# count and groupby -- https://stackoverflow.com/questions/1052148/group-by-count-function-in-sqlalchemy\n",
    "# descending order -- https://stackoverflow.com/questions/4186062/sqlalchemy-order-by-descending"
   ]
  },
  {
   "cell_type": "code",
   "execution_count": 21,
   "metadata": {},
   "outputs": [
    {
     "name": "stdout",
     "output_type": "stream",
     "text": [
      "The minimum temp measured by station USC00519281 is 54.0 in Fahrenheit\n",
      "The maximum temp measured by station USC00519281 is 85.0 in Fahrenheit\n",
      "The average temp measured by station USC00519281 is 71.7 in Fahrenheit\n"
     ]
    }
   ],
   "source": [
    "# Using the station id from the previous query, calculate the lowest temperature recorded, \n",
    "# highest temperature recorded, and average temperature of the most active station?\n",
    "most_active_station = str(station_freq[0][0]) # grab the station id from previous query\n",
    "mas_temp = session.query(Measurement.tobs).\\\n",
    "                        filter(Measurement.station == most_active_station).\\\n",
    "                        order_by(Measurement.tobs).all()\n",
    "# convert tuple like element to float type\n",
    "mas_temp = [float(x[0]) for x in mas_temp]\n",
    "mas_max_temp = max(mas_temp) # or = mas_temp[-1] because of order_by in query\n",
    "mas_min_temp = min(mas_temp) # or = mas_temp[0] because of order_by in query\n",
    "mas_avg_temp = np.mean(mas_temp)\n",
    "print(f\"The minimum temp measured by station {most_active_station} is {mas_min_temp} in Fahrenheit\")\n",
    "print(f\"The maximum temp measured by station {most_active_station} is {mas_max_temp} in Fahrenheit\")\n",
    "print(f\"The average temp measured by station {most_active_station} is {mas_avg_temp:.1f} in Fahrenheit\")"
   ]
  },
  {
   "cell_type": "code",
   "execution_count": 24,
   "metadata": {},
   "outputs": [
    {
     "data": {
      "image/png": "[encoded data removed]",
      "text/plain": [
       "<Figure size 432x288 with 1 Axes>"
      ]
     },
     "metadata": {},
     "output_type": "display_data"
    }
   ],
   "source": [
    "# Choose the station with the highest number of temperature observations.\n",
    "# Query the last 12 months of temperature observation data for this station and plot the results as a histogram\n",
    "last_year_temp = session.query(Measurement.tobs,Measurement.date).\\\n",
    "                        filter(Measurement.station == most_active_station).\\\n",
    "                        filter(Measurement.date >= year_ago).all() # year_ago from the begining of notebook\n",
    "last_year_temp_df = pd.DataFrame(last_year_temp)\n",
    "plt.figure()\n",
    "last_year_temp_df['tobs'].plot(kind='hist',bins=12)\n",
    "plt.xlabel('Temperature (F)')\n",
    "plt.savefig(\"images/tempFrequencyStation.png\")"
   ]
  },
  {
   "cell_type": "code",
   "execution_count": 23,
   "metadata": {},
   "outputs": [],
   "source": [
    "# Save for use in app.py\n",
    "last_year_temp_df.to_csv('mas_tobs.csv',index=False)"
   ]
  },
  {
   "cell_type": "markdown",
   "metadata": {},
   "source": [
    "## All Stations Temperature"
   ]
  },
  {
   "cell_type": "code",
   "execution_count": 101,
   "metadata": {},
   "outputs": [
    {
     "name": "stdout",
     "output_type": "stream",
     "text": [
      "June Temp average: 74.9 +/- 3.3\n",
      "December Temp average: 71.0 +/- 3.7\n",
      "T test results are t stat value: 31.355036920962423 and pvalue: 4.193529835915755e-187\n"
     ]
    }
   ],
   "source": [
    "# Temperature Analysis I\n",
    "# perform query to find all temps from all stations in June and December for all years\n",
    "june_temp = session.query(Measurement.tobs).\\\n",
    "            filter(func.strftime(\"%m\", Measurement.date) == \"06\").all()\n",
    "dec_temp = session.query(Measurement.tobs).\\\n",
    "            filter(func.strftime(\"%m\", Measurement.date) == \"12\").all()\n",
    "# convert tuple like element to float type\n",
    "june_temp = [float(x[0]) for x in june_temp]\n",
    "dec_temp = [float(x[0]) for x in dec_temp]\n",
    "\n",
    "# Report averages\n",
    "print(f\"June Temp average: {np.mean(june_temp):.1f} +/- {np.std(june_temp):.1f}\")\n",
    "print(f\"December Temp average: {np.mean(dec_temp):.1f} +/- {np.std(dec_temp):.1f}\")\n",
    "\n",
    "# t test analysis\n",
    "tstat, pvalue = stats.ttest_ind(a=june_temp,b=dec_temp,equal_var=False)\n",
    "print(f\"T test results are t stat value: {tstat} and pvalue: {pvalue}\")"
   ]
  },
  {
   "cell_type": "markdown",
   "metadata": {},
   "source": [
    "With a pvalue much less than zero, we can reject the null hypothesis of the two sets having \n",
    "the same average and conclude that the difference between the two averages is significant. So while\n",
    "the difference is significant, from a human comfort level, you could maybe see that the mean temp in \n",
    "December is still warm, and choose to go during that time. However, do note that the variance/STDev\n",
    "for the temperatures in December is sligtly larger than in June.\n",
    "\n",
    "Using the ttest_rel as the two datasets are unpaired. The two datasets are not exactily the\n",
    "same. There are a different number of measurements taken in different months.\n",
    "ttest_rel will tell us if the average changing as much as it does is significant\n",
    "for something we are hypothesizing should be very similar. Then I have to set the equal_var=False as\n",
    "the two datasets have different variances."
   ]
  },
  {
   "cell_type": "code",
   "execution_count": 102,
   "metadata": {},
   "outputs": [
    {
     "name": "stdout",
     "output_type": "stream",
     "text": [
      "[(62.0, 69.57142857142857, 74.0)]\n"
     ]
    }
   ],
   "source": [
    "# Temperature Analysis II\n",
    "# This function called `calc_temps` will accept start date and end date in the format '%Y-%m-%d' \n",
    "# and return the minimum, average, and maximum temperatures for that range of dates\n",
    "def calc_temps(start_date, end_date):\n",
    "    \"\"\"TMIN, TAVG, and TMAX for a list of dates.\n",
    "    \n",
    "    Args:\n",
    "        start_date (string): A date string in the format %Y-%m-%d\n",
    "        end_date (string): A date string in the format %Y-%m-%d\n",
    "        \n",
    "    Returns:\n",
    "        TMIN, TAVE, and TMAX\n",
    "    \"\"\"\n",
    "    \n",
    "    return session.query(func.min(Measurement.tobs), func.avg(Measurement.tobs), func.max(Measurement.tobs)).\\\n",
    "        filter(Measurement.date >= start_date).filter(Measurement.date <= end_date).all()\n",
    "\n",
    "# function usage example\n",
    "print(calc_temps('2012-02-28', '2012-03-05'))"
   ]
  },
  {
   "cell_type": "code",
   "execution_count": 103,
   "metadata": {},
   "outputs": [
    {
     "name": "stdout",
     "output_type": "stream",
     "text": [
      "58.0 74.14387974230493 87.0\n"
     ]
    }
   ],
   "source": [
    "# Use your previous function `calc_temps` to calculate the tmin, tavg, and tmax \n",
    "# for your trip using the previous year's data for those same dates.\n",
    "temps_3 = calc_temps('2017-01-01','2018')\n",
    "tmin, tavg, tmax = temps_3[0][0], temps_3[0][1], temps_3[0][2]\n",
    "print(tmin,tavg,tmax)"
   ]
  },
  {
   "cell_type": "code",
   "execution_count": 104,
   "metadata": {},
   "outputs": [
    {
     "data": {
      "text/plain": [
       "(0.0, 100.0)"
      ]
     },
     "execution_count": 104,
     "metadata": {},
     "output_type": "execute_result"
    },
    {
     "data": {
      "image/png": "[encoded data removed]",
      "text/plain": [
       "<Figure size 144x432 with 1 Axes>"
      ]
     },
     "metadata": {},
     "output_type": "display_data"
    }
   ],
   "source": [
    "# Plot the results from your previous query as a bar chart. \n",
    "# Use \"Trip Avg Temp\" as your Title\n",
    "# Use the average temperature for the y value\n",
    "# Use the peak-to-peak (tmax-tmin) value as the y error bar (yerr)\n",
    "plt.figure(figsize=(2,6))\n",
    "plt.bar(\"2017\",tavg,yerr=(tmax-tmin)/2,color='salmon',alpha=0.5)\n",
    "# plt.bar(\"2017\",tavg,yerr=(tavg-tmin, tmax-tavg), color='salmon',alpha=0.5)\n",
    "plt.grid(True)\n",
    "plt.title('Trip Avg Temp')\n",
    "plt.ylabel('Temp (F)')\n",
    "plt.ylim(0,100)"
   ]
  },
  {
   "cell_type": "code",
   "execution_count": 143,
   "metadata": {},
   "outputs": [
    {
     "data": {
      "text/html": [
       "<div>\n",
       "<style scoped>\n",
       "    .dataframe tbody tr th:only-of-type {\n",
       "        vertical-align: middle;\n",
       "    }\n",
       "\n",
       "    .dataframe tbody tr th {\n",
       "        vertical-align: top;\n",
       "    }\n",
       "\n",
       "    .dataframe thead th {\n",
       "        text-align: right;\n",
       "    }\n",
       "</style>\n",
       "<table border=\"1\" class=\"dataframe\">\n",
       "  <thead>\n",
       "    <tr style=\"text-align: right;\">\n",
       "      <th></th>\n",
       "      <th>Station ID</th>\n",
       "      <th>Station Name</th>\n",
       "      <th>prcp Sum</th>\n",
       "      <th>latitude</th>\n",
       "      <th>longitude</th>\n",
       "      <th>elevation</th>\n",
       "    </tr>\n",
       "  </thead>\n",
       "  <tbody>\n",
       "    <tr>\n",
       "      <th>0</th>\n",
       "      <td>USC00516128</td>\n",
       "      <td>MANOA LYON ARBO 785.2, HI US</td>\n",
       "      <td>1068.09</td>\n",
       "      <td>21.33310</td>\n",
       "      <td>-157.80250</td>\n",
       "      <td>152.4</td>\n",
       "    </tr>\n",
       "    <tr>\n",
       "      <th>1</th>\n",
       "      <td>USC00519281</td>\n",
       "      <td>WAIHEE 837.5, HI US</td>\n",
       "      <td>588.64</td>\n",
       "      <td>21.45167</td>\n",
       "      <td>-157.84889</td>\n",
       "      <td>32.9</td>\n",
       "    </tr>\n",
       "    <tr>\n",
       "      <th>2</th>\n",
       "      <td>USC00513117</td>\n",
       "      <td>KANEOHE 838.1, HI US</td>\n",
       "      <td>382.62</td>\n",
       "      <td>21.42340</td>\n",
       "      <td>-157.80150</td>\n",
       "      <td>14.6</td>\n",
       "    </tr>\n",
       "    <tr>\n",
       "      <th>3</th>\n",
       "      <td>USC00519523</td>\n",
       "      <td>WAIMANALO EXPERIMENTAL FARM, HI US</td>\n",
       "      <td>295.68</td>\n",
       "      <td>21.33556</td>\n",
       "      <td>-157.71139</td>\n",
       "      <td>19.5</td>\n",
       "    </tr>\n",
       "    <tr>\n",
       "      <th>4</th>\n",
       "      <td>USC00514830</td>\n",
       "      <td>KUALOA RANCH HEADQUARTERS 886.9, HI US</td>\n",
       "      <td>234.49</td>\n",
       "      <td>21.52130</td>\n",
       "      <td>-157.83740</td>\n",
       "      <td>7.0</td>\n",
       "    </tr>\n",
       "    <tr>\n",
       "      <th>5</th>\n",
       "      <td>USC00519397</td>\n",
       "      <td>WAIKIKI 717.2, HI US</td>\n",
       "      <td>131.62</td>\n",
       "      <td>21.27160</td>\n",
       "      <td>-157.81680</td>\n",
       "      <td>3.0</td>\n",
       "    </tr>\n",
       "    <tr>\n",
       "      <th>6</th>\n",
       "      <td>USC00511918</td>\n",
       "      <td>HONOLULU OBSERVATORY 702.2, HI US</td>\n",
       "      <td>92.68</td>\n",
       "      <td>21.31520</td>\n",
       "      <td>-157.99920</td>\n",
       "      <td>0.9</td>\n",
       "    </tr>\n",
       "    <tr>\n",
       "      <th>7</th>\n",
       "      <td>USC00518838</td>\n",
       "      <td>UPPER WAHIAWA 874.3, HI US</td>\n",
       "      <td>70.87</td>\n",
       "      <td>21.49920</td>\n",
       "      <td>-158.01110</td>\n",
       "      <td>306.6</td>\n",
       "    </tr>\n",
       "    <tr>\n",
       "      <th>8</th>\n",
       "      <td>USC00517948</td>\n",
       "      <td>PEARL CITY, HI US</td>\n",
       "      <td>43.44</td>\n",
       "      <td>21.39340</td>\n",
       "      <td>-157.97510</td>\n",
       "      <td>11.9</td>\n",
       "    </tr>\n",
       "  </tbody>\n",
       "</table>\n",
       "</div>"
      ],
      "text/plain": [
       "    Station ID                            Station Name  prcp Sum  latitude  \\\n",
       "0  USC00516128            MANOA LYON ARBO 785.2, HI US   1068.09  21.33310   \n",
       "1  USC00519281                     WAIHEE 837.5, HI US    588.64  21.45167   \n",
       "2  USC00513117                    KANEOHE 838.1, HI US    382.62  21.42340   \n",
       "3  USC00519523      WAIMANALO EXPERIMENTAL FARM, HI US    295.68  21.33556   \n",
       "4  USC00514830  KUALOA RANCH HEADQUARTERS 886.9, HI US    234.49  21.52130   \n",
       "5  USC00519397                    WAIKIKI 717.2, HI US    131.62  21.27160   \n",
       "6  USC00511918       HONOLULU OBSERVATORY 702.2, HI US     92.68  21.31520   \n",
       "7  USC00518838              UPPER WAHIAWA 874.3, HI US     70.87  21.49920   \n",
       "8  USC00517948                       PEARL CITY, HI US     43.44  21.39340   \n",
       "\n",
       "   longitude  elevation  \n",
       "0 -157.80250      152.4  \n",
       "1 -157.84889       32.9  \n",
       "2 -157.80150       14.6  \n",
       "3 -157.71139       19.5  \n",
       "4 -157.83740        7.0  \n",
       "5 -157.81680        3.0  \n",
       "6 -157.99920        0.9  \n",
       "7 -158.01110      306.6  \n",
       "8 -157.97510       11.9  "
      ]
     },
     "execution_count": 143,
     "metadata": {},
     "output_type": "execute_result"
    }
   ],
   "source": [
    "# Calculate the total amount of rainfall per weather station for your trip dates using the previous year's matching dates.\n",
    "# Sort this in descending order by precipitation amount and list the station, name, latitude, longitude, and elevation\n",
    "\n",
    "station_amount_q = session.query(Measurement.station, Station.name, func.sum(Measurement.prcp),\n",
    "                              Station.latitude,Station.longitude,Station.elevation).\\\n",
    "                    group_by(Measurement.station).order_by(func.sum(Measurement.prcp).desc()).\\\n",
    "                    join(Station, Measurement.station==Station.station).all()\n",
    "# station_amount_q\n",
    "station_amount_list = [list(x) for x in station_amount_q]\n",
    "amounts_df = pd.DataFrame(station_amount_list)\n",
    "amounts_df = amounts_df.rename(columns={0:'Station ID',1:'Station Name',2:'prcp Sum',\n",
    "                                        3:'latitude',4:'longitude',5:'elevation'})\n",
    "amounts_df.to_csv('station_sum.csv',index=False)\n",
    "amounts_df"
   ]
  },
  {
   "cell_type": "code",
   "execution_count": 106,
   "metadata": {},
   "outputs": [
    {
     "data": {
      "text/plain": [
       "[(62.0, 69.15384615384616, 77.0)]"
      ]
     },
     "execution_count": 106,
     "metadata": {},
     "output_type": "execute_result"
    }
   ],
   "source": [
    "# Create a query that will calculate the daily normals \n",
    "# (i.e. the averages for tmin, tmax, and tavg for all historic data matching a specific month and day)\n",
    "\n",
    "def daily_normals(date):\n",
    "    \"\"\"Daily Normals.\n",
    "    \n",
    "    Args:\n",
    "        date (str): A date string in the format '%m-%d'\n",
    "        \n",
    "    Returns:\n",
    "        A list of tuples containing the daily normals, tmin, tavg, and tmax\n",
    "    \n",
    "    \"\"\"\n",
    "    \n",
    "    sel = [func.min(Measurement.tobs), func.avg(Measurement.tobs), func.max(Measurement.tobs)]\n",
    "    return session.query(*sel).filter(func.strftime(\"%m-%d\", Measurement.date) == date).all()\n",
    "    \n",
    "daily_normals(\"01-01\")"
   ]
  },
  {
   "cell_type": "code",
   "execution_count": 107,
   "metadata": {},
   "outputs": [
    {
     "data": {
      "text/plain": [
       "'02-09'"
      ]
     },
     "execution_count": 107,
     "metadata": {},
     "output_type": "execute_result"
    }
   ],
   "source": [
    "# Create a function for easy looping through days and months\n",
    "def str_that_date(m,d):\n",
    "    \"\"\"\n",
    "    Args:\n",
    "        m (int): input month as an integer\n",
    "        d (int): input day as an integer\n",
    "    Returns:\n",
    "        A string of the date in apporopriate formating\"\"\"\n",
    "    \n",
    "    if m < 10:\n",
    "        month = '0'+str(m)\n",
    "    else:\n",
    "        month = str(m)\n",
    "    \n",
    "    if d < 10:\n",
    "        day = '0'+str(d)\n",
    "    else:\n",
    "        day = str(d)\n",
    "        \n",
    "    return (month+'-'+day)\n",
    "str_that_date(2,9)"
   ]
  },
  {
   "cell_type": "code",
   "execution_count": 108,
   "metadata": {},
   "outputs": [],
   "source": [
    "# loop through each day of each month and store in list\n",
    "days_info = []\n",
    "date_true = []\n",
    "for m in range(1,12+1): # loop through all possible months (1-12)\n",
    "    for d in range(1,31+1): # loop through all possible days (1-31)\n",
    "        # calculate the daily normals for each day and append to list\n",
    "        temp = daily_normals(str_that_date(m,d))\n",
    "        if temp[0][0] != None: # filter out the days that didn't exists/have data for\n",
    "            days_info.append(list(*temp))\n",
    "            date_true.append(str_that_date(m,d))\n"
   ]
  },
  {
   "cell_type": "code",
   "execution_count": 109,
   "metadata": {},
   "outputs": [
    {
     "data": {
      "text/html": [
       "<div>\n",
       "<style scoped>\n",
       "    .dataframe tbody tr th:only-of-type {\n",
       "        vertical-align: middle;\n",
       "    }\n",
       "\n",
       "    .dataframe tbody tr th {\n",
       "        vertical-align: top;\n",
       "    }\n",
       "\n",
       "    .dataframe thead th {\n",
       "        text-align: right;\n",
       "    }\n",
       "</style>\n",
       "<table border=\"1\" class=\"dataframe\">\n",
       "  <thead>\n",
       "    <tr style=\"text-align: right;\">\n",
       "      <th></th>\n",
       "      <th>Min Temp</th>\n",
       "      <th>Avg Temp</th>\n",
       "      <th>Max Temp</th>\n",
       "      <th>INT Date</th>\n",
       "    </tr>\n",
       "    <tr>\n",
       "      <th>date</th>\n",
       "      <th></th>\n",
       "      <th></th>\n",
       "      <th></th>\n",
       "      <th></th>\n",
       "    </tr>\n",
       "  </thead>\n",
       "  <tbody>\n",
       "    <tr>\n",
       "      <th>01-01</th>\n",
       "      <td>62.0</td>\n",
       "      <td>69.153846</td>\n",
       "      <td>77.0</td>\n",
       "      <td>101</td>\n",
       "    </tr>\n",
       "    <tr>\n",
       "      <th>01-02</th>\n",
       "      <td>60.0</td>\n",
       "      <td>69.396226</td>\n",
       "      <td>77.0</td>\n",
       "      <td>102</td>\n",
       "    </tr>\n",
       "    <tr>\n",
       "      <th>01-03</th>\n",
       "      <td>62.0</td>\n",
       "      <td>68.909091</td>\n",
       "      <td>77.0</td>\n",
       "      <td>103</td>\n",
       "    </tr>\n",
       "    <tr>\n",
       "      <th>01-04</th>\n",
       "      <td>58.0</td>\n",
       "      <td>70.000000</td>\n",
       "      <td>76.0</td>\n",
       "      <td>104</td>\n",
       "    </tr>\n",
       "    <tr>\n",
       "      <th>01-05</th>\n",
       "      <td>56.0</td>\n",
       "      <td>67.964286</td>\n",
       "      <td>76.0</td>\n",
       "      <td>105</td>\n",
       "    </tr>\n",
       "  </tbody>\n",
       "</table>\n",
       "</div>"
      ],
      "text/plain": [
       "       Min Temp   Avg Temp  Max Temp  INT Date\n",
       "date                                          \n",
       "01-01      62.0  69.153846      77.0       101\n",
       "01-02      60.0  69.396226      77.0       102\n",
       "01-03      62.0  68.909091      77.0       103\n",
       "01-04      58.0  70.000000      76.0       104\n",
       "01-05      56.0  67.964286      76.0       105"
      ]
     },
     "execution_count": 109,
     "metadata": {},
     "output_type": "execute_result"
    }
   ],
   "source": [
    "# Store query into a dataframe, add the dates, and rename the columns\n",
    "normal_df = pd.DataFrame(days_info)\n",
    "normal_df['date'] = date_true\n",
    "normal_df = normal_df.set_index('date')\n",
    "normal_df = normal_df.rename(columns={0:\"Min Temp\",1:\"Avg Temp\",2:\"Max Temp\"})\n",
    "# add a int style date for easy filtering\n",
    "date_int = [int(x.replace('-','')) for x in date_true]\n",
    "normal_df['INT Date'] = date_int\n",
    "\n",
    "normal_df.head()"
   ]
  },
  {
   "cell_type": "code",
   "execution_count": 166,
   "metadata": {},
   "outputs": [
    {
     "data": {
      "text/plain": [
       "{'Min Temp': {'06-15': 67.0,\n",
       "  '06-16': 69.0,\n",
       "  '06-17': 68.0,\n",
       "  '06-18': 69.0,\n",
       "  '06-19': 70.0,\n",
       "  '06-20': 68.0,\n",
       "  '06-21': 68.0,\n",
       "  '06-22': 69.0,\n",
       "  '06-23': 68.0,\n",
       "  '06-24': 68.0,\n",
       "  '06-25': 68.0,\n",
       "  '06-26': 67.0,\n",
       "  '06-27': 66.0,\n",
       "  '06-28': 69.0,\n",
       "  '06-29': 67.0,\n",
       "  '06-30': 67.0,\n",
       "  '07-01': 67.0,\n",
       "  '07-02': 68.0},\n",
       " 'Avg Temp': {'06-15': 75.40350877192982,\n",
       "  '06-16': 75.41379310344827,\n",
       "  '06-17': 74.59322033898304,\n",
       "  '06-18': 74.60344827586206,\n",
       "  '06-19': 75.44067796610169,\n",
       "  '06-20': 73.96491228070175,\n",
       "  '06-21': 74.75862068965517,\n",
       "  '06-22': 75.15789473684211,\n",
       "  '06-23': 74.54385964912281,\n",
       "  '06-24': 74.96428571428571,\n",
       "  '06-25': 74.10344827586206,\n",
       "  '06-26': 74.21428571428571,\n",
       "  '06-27': 75.01785714285714,\n",
       "  '06-28': 74.88679245283019,\n",
       "  '06-29': 74.91525423728814,\n",
       "  '06-30': 75.59615384615384,\n",
       "  '07-01': 74.77777777777777,\n",
       "  '07-02': 75.40384615384616},\n",
       " 'Max Temp': {'06-15': 81.0,\n",
       "  '06-16': 81.0,\n",
       "  '06-17': 81.0,\n",
       "  '06-18': 80.0,\n",
       "  '06-19': 82.0,\n",
       "  '06-20': 85.0,\n",
       "  '06-21': 82.0,\n",
       "  '06-22': 81.0,\n",
       "  '06-23': 80.0,\n",
       "  '06-24': 84.0,\n",
       "  '06-25': 80.0,\n",
       "  '06-26': 82.0,\n",
       "  '06-27': 81.0,\n",
       "  '06-28': 80.0,\n",
       "  '06-29': 80.0,\n",
       "  '06-30': 81.0,\n",
       "  '07-01': 81.0,\n",
       "  '07-02': 82.0}}"
      ]
     },
     "execution_count": 166,
     "metadata": {},
     "output_type": "execute_result"
    }
   ],
   "source": [
    "# Create function that takes trip dates and dataframe\n",
    "# return a df with temperature for the date range desired\n",
    "def weather_for_trip(start_month,start_day,end_month,end_day,big_df):\n",
    "    \"\"\"\n",
    "    Args:\n",
    "        start_month (int): input start month of trip as an integer\n",
    "        start_day (int): input start day of trip as an integer\n",
    "        end_month (int): input end month of trip as an integer\n",
    "        end_day (int): input end day of trip as an integer\n",
    "        big_df (pd.DataFrame): input dataframe with average values for each day\n",
    "    Returns:\n",
    "        A dataframe with temperature infor over duration of trip\n",
    "    \"\"\"\n",
    "    temp_df = big_df.loc[(big_df['INT Date'] >= \n",
    "                            int(str_that_date(start_month,start_day).replace('-',''))),:]\n",
    "    temp_df = temp_df.loc[(temp_df['INT Date'] <= \n",
    "                          int(str_that_date(end_month,end_day).replace('-',''))), :]\n",
    "    temp_df = temp_df.drop(columns='INT Date')\n",
    "    return temp_df\n",
    "\n",
    "trip_df = weather_for_trip(6,15,7,2,normal_df)\n",
    "\n",
    "trip_df.to_dict()"
   ]
  },
  {
   "cell_type": "code",
   "execution_count": 132,
   "metadata": {},
   "outputs": [
    {
     "data": {
      "text/plain": [
       "Text(0, 0.5, 'Temperature (F)')"
      ]
     },
     "execution_count": 132,
     "metadata": {},
     "output_type": "execute_result"
    },
    {
     "data": {
      "text/plain": [
       "<Figure size 432x288 with 0 Axes>"
      ]
     },
     "metadata": {},
     "output_type": "display_data"
    },
    {
     "data": {
      "image/png": "[encoded data removed]",
      "text/plain": [
       "<Figure size 432x288 with 1 Axes>"
      ]
     },
     "metadata": {},
     "output_type": "display_data"
    }
   ],
   "source": [
    "# Plot the temps for the entire year to match given image\n",
    "# Plot the daily normals as an area plot with `stacked=False`\n",
    "year_trip_df = weather_for_trip(1,1,12,31,normal_df)\n",
    "\n",
    "# fig, ax = plt.subplots()\n",
    "plt.figure()\n",
    "year_trip_df.plot(kind='area',stacked=False,alpha=0.25,rot=23)\n",
    "plt.ylabel('Temperature (F)')"
   ]
  }
 ],
 "metadata": {
  "kernel_info": {
   "name": "python3"
  },
  "kernelspec": {
   "display_name": "Python 3",
   "language": "python",
   "name": "python3"
  },
  "language_info": {
   "codemirror_mode": {
    "name": "ipython",
    "version": 3
   },
   "file_extension": ".py",
   "mimetype": "text/x-python",
   "name": "python",
   "nbconvert_exporter": "python",
   "pygments_lexer": "ipython3",
   "version": "3.7.6"
  },
  "nteract": {
   "version": "0.12.3"
  },
  "varInspector": {
   "cols": {
    "lenName": 16,
    "lenType": 16,
    "lenVar": 40
   },
   "kernels_config": {
    "python": {
     "delete_cmd_postfix": "",
     "delete_cmd_prefix": "del ",
     "library": "var_list.py",
     "varRefreshCmd": "print(var_dic_list())"
    },
    "r": {
     "delete_cmd_postfix": ") ",
     "delete_cmd_prefix": "rm(",
     "library": "var_list.r",
     "varRefreshCmd": "cat(var_dic_list()) "
    }
   },
   "types_to_exclude": [
    "module",
    "function",
    "builtin_function_or_method",
    "instance",
    "_Feature"
   ],
   "window_display": false
  }
 },
 "nbformat": 4,
 "nbformat_minor": 2
}
